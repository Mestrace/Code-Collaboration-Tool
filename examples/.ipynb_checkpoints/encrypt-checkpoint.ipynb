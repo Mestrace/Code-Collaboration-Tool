{
 "cells": [
  {
   "cell_type": "code",
   "execution_count": 55,
   "metadata": {
    "collapsed": true
   },
   "outputs": [],
   "source": [
    "from Crypto.PublicKey import RSA\n",
    "from Crypto.Cipher import PKCS1_OAEP\n",
    "from Crypto.Cipher import AES\n",
    "from Crypto import Random\n",
    "from random import randint\n",
    "from base64 import b64encode\n",
    "from os import urandom"
   ]
  },
  {
   "cell_type": "code",
   "execution_count": 11,
   "metadata": {
    "collapsed": true
   },
   "outputs": [],
   "source": [
    "# export AES key to file\n",
    "key = RSA.generate(1024)\n",
    "f = open('mykey', 'wb')\n",
    "f.write(key.exportKey())\n",
    "f.close()"
   ]
  },
  {
   "cell_type": "code",
   "execution_count": 52,
   "metadata": {
    "scrolled": true
   },
   "outputs": [
    {
     "name": "stdout",
     "output_type": "stream",
     "text": [
      "b'oSe0n9mTiub9UOvZjFfR3Rvl/gIYrutcM5a6J0NNfwloqMdQvhcW7e7LUsjjW7Xf24oSr4syYdFc4P2gH76yBAmguW3M/Cfn2TiE4XLZoDtga2V3EFwWTGuqyD78lqleJ73rUzm9aeierGyK6wWLT85tqy48lx3FbnjLtx71qv0='\n",
      "this is a stupid project\n"
     ]
    }
   ],
   "source": [
    "# RSA encryption and decryption\n",
    "msg = \"this is a stupid project\"\n",
    "r = RSA.generate(1024)\n",
    "encrypted = r.encrypt(msg.encode(\"utf-8\"), randint(0, 10))[0]\n",
    "print(b64encode(encrypted))\n",
    "decrypted = r.decrypt(encrypted)\n",
    "print(decrypted.decode('ascii'))"
   ]
  },
  {
   "cell_type": "code",
   "execution_count": 85,
   "metadata": {
    "collapsed": true
   },
   "outputs": [],
   "source": [
    "def aespadding(ciphertext, padding = ' '):\n",
    "    l = len(ciphertext) % 16\n",
    "    n = int((16 - l)/len(padding))\n",
    "    if not l == 0:\n",
    "        return (16 - l), (ciphertext + padding*n)        "
   ]
  },
  {
   "cell_type": "code",
   "execution_count": 93,
   "metadata": {},
   "outputs": [
    {
     "name": "stdout",
     "output_type": "stream",
     "text": [
      "AES key : b'eFdvWl7hRVL6G+/gaeKYXw=='\n",
      "AES Initialization vector : b'SNJ2RxYGVLBU0CGf4SFZtw=='\n",
      "encrypted : b's4OFb1ne2HyMxFtPb7kpIAaugEHFUvyhyUVEZ47cYqQ='\n",
      "I don't really give a fuck      \n"
     ]
    }
   ],
   "source": [
    "# AES encryption and decryption\n",
    "msg = \"I don't really give a fuck\"\n",
    "# generate 128 bit AES key\n",
    "key = urandom(16)\n",
    "print(\"AES key : {0}\".format(b64encode(key)))\n",
    "iv = urandom(AES.block_size)\n",
    "print(\"AES Initialization vector : {0}\".format(b64encode(iv)))\n",
    "cipher = AES.new(key, AES.MODE_ECB, iv)\n",
    "padlen, padded = aespadding(msg)\n",
    "encrypted = cipher.encrypt(padded)\n",
    "# note that actual transfer, need to transfer encrypted = iv + encrypted text\n",
    "print(\"encrypted : {0}\".format(b64encode(encrypted)))\n",
    "decrypted = cipher.decrypt(encrypted)\n",
    "print(decrypted.decode('utf-8'))"
   ]
  }
 ],
 "metadata": {
  "kernelspec": {
   "display_name": "Python 3",
   "language": "python",
   "name": "python3"
  },
  "language_info": {
   "codemirror_mode": {
    "name": "ipython",
    "version": 3
   },
   "file_extension": ".py",
   "mimetype": "text/x-python",
   "name": "python",
   "nbconvert_exporter": "python",
   "pygments_lexer": "ipython3",
   "version": "3.6.3"
  }
 },
 "nbformat": 4,
 "nbformat_minor": 2
}
